{
 "cells": [
  {
   "cell_type": "code",
   "execution_count": 2,
   "id": "a161e163-07bf-44c1-acc9-a806faee02f3",
   "metadata": {},
   "outputs": [],
   "source": [
    "#Hello "
   ]
  },
  {
   "cell_type": "code",
   "execution_count": null,
   "id": "e8223fb8-7c34-400c-a647-3da52eed148e",
   "metadata": {},
   "outputs": [],
   "source": [
    "#How do you spell it correclty?"
   ]
  }
 ],
 "metadata": {
  "kernelspec": {
   "display_name": "Python 3 (ipykernel)",
   "language": "python",
   "name": "python3"
  },
  "language_info": {
   "codemirror_mode": {
    "name": "ipython",
    "version": 3
   },
   "file_extension": ".py",
   "mimetype": "text/x-python",
   "name": "python",
   "nbconvert_exporter": "python",
   "pygments_lexer": "ipython3",
   "version": "3.12.4"
  }
 },
 "nbformat": 4,
 "nbformat_minor": 5
}
